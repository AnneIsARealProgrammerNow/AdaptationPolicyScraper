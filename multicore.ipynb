{
 "cells": [
  {
   "cell_type": "code",
   "execution_count": 5,
   "id": "d3a22347-f307-43b7-8148-2ffb25447f7b",
   "metadata": {},
   "outputs": [],
   "source": [
    "import os\n",
    "import time\n",
    "\n",
    "from multiprocessing.pool import Pool as Pool #Threadpool is better for heavy I/O, but conversion is CPU heavy\n",
    "\n",
    "from pdfFuncs import extractTextFromPdf as extract\n",
    "from pdfFuncs import createPdfList as fileList\n",
    "\n",
    "import pickle"
   ]
  },
  {
   "cell_type": "markdown",
   "id": "14abc5b4-fdad-40ba-b3cd-84f44ea340db",
   "metadata": {},
   "source": [
    "All we do here is import the pdf to text functions and run them multi-core. Because jupyternotebook is sometimes a bit of a pain, the functions are saved as a .py file (so modifying the PdfToText.ipynb file does nothing)"
   ]
  },
  {
   "cell_type": "code",
   "execution_count": 4,
   "id": "d1d46172-b8ac-4707-bbe7-f2a6e30fb511",
   "metadata": {},
   "outputs": [
    {
     "data": {
      "text/plain": [
       "11111"
      ]
     },
     "execution_count": 4,
     "metadata": {},
     "output_type": "execute_result"
    }
   ],
   "source": [
    "#First, create a list of tuples (pdf location, intended txt location)\n",
    "\n",
    "# dirs = [\n",
    "#     r'D:\\OneDrive - Wageningen University & Research\\Policy scraper UK NL\\Data\\230510_Climate',\n",
    "#      r'D:\\OneDrive - Wageningen University & Research\\Policy scraper UK NL\\Data\\230510_Climate_Change',\n",
    "#      r'D:\\OneDrive - Wageningen University & Research\\Policy scraper UK NL\\Data\\230510_Climate_Change'\n",
    "#     ]\n",
    "    \n",
    "\n",
    "dirs = [\n",
    "    r'C:\\Users\\siets009\\OneDrive - Wageningen University & Research\\Policy documents UK NL\\Data\\230524_Climate',\n",
    "    r'C:\\Users\\siets009\\OneDrive - Wageningen University & Research\\Policy documents UK NL\\Data\\230524_ClimateChange',\n",
    "    r'C:\\Users\\siets009\\OneDrive - Wageningen University & Research\\Policy documents UK NL\\Data\\230524_GlobalWarming'\n",
    "       ]\n",
    "\n",
    "#outputDir = r'C:\\Users\\ajsie\\OneDrive - Wageningen University & Research\\Policy scraper UK NL\\Data\\2320524_ConvertedPDFs'\n",
    "outputDir = r'C:\\Users\\siets009\\OneDrive - Wageningen University & Research\\Policy scraper UK NL\\Data\\230524_ConvertedPDFs'\n",
    "\n",
    "listOfDirs = fileList(dirs, outputDir)\n",
    "len(listOfDirs)"
   ]
  },
  {
   "cell_type": "code",
   "execution_count": 8,
   "id": "372f6f2a-a68f-482f-b2aa-66d626cdbcf4",
   "metadata": {},
   "outputs": [],
   "source": [
    "#Write this info\n",
    "with open(os.path.join(outputDir, \"mappingToPDFs.pickle\"), 'wb') as f:\n",
    "    pickle.dump(listOfDirs, f)"
   ]
  },
  {
   "cell_type": "code",
   "execution_count": 3,
   "id": "5a87d42d-39bc-4026-93d9-9858ea884229",
   "metadata": {},
   "outputs": [
    {
     "name": "stdout",
     "output_type": "stream",
     "text": [
      "Done in 11686.7525908947\n"
     ]
    }
   ],
   "source": [
    "#Now start the processing\n",
    "t0 = time.time()\n",
    "pool = Pool(maxtasksperchild=4) #Getting a memory leak without the maxtask\n",
    "results = pool.map(extract, listOfDirs)\n",
    "pool.close()\n",
    "pool.join()\n",
    "\n",
    "print(f\"Done in {time.time() - t0}\")"
   ]
  },
  {
   "cell_type": "code",
   "execution_count": 9,
   "id": "332eff9e-9929-4ab7-af61-17be29aa6efa",
   "metadata": {},
   "outputs": [
    {
     "data": {
      "text/plain": [
       "39"
      ]
     },
     "execution_count": 9,
     "metadata": {},
     "output_type": "execute_result"
    }
   ],
   "source": [
    "len(results)"
   ]
  }
 ],
 "metadata": {
  "kernelspec": {
   "display_name": "Python 3 (ipykernel)",
   "language": "python",
   "name": "python3"
  },
  "language_info": {
   "codemirror_mode": {
    "name": "ipython",
    "version": 3
   },
   "file_extension": ".py",
   "mimetype": "text/x-python",
   "name": "python",
   "nbconvert_exporter": "python",
   "pygments_lexer": "ipython3",
   "version": "3.11.3"
  }
 },
 "nbformat": 4,
 "nbformat_minor": 5
}

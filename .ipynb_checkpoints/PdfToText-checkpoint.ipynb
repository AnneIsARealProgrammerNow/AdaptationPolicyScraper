{
 "cells": [
  {
   "cell_type": "code",
   "execution_count": 1,
   "id": "b78f3a03-e95a-448e-a1c0-1240115c9180",
   "metadata": {},
   "outputs": [],
   "source": [
    "import pdfplumber\n",
    "import pandas as pd\n",
    "import os\n",
    "import time"
   ]
  },
  {
   "cell_type": "code",
   "execution_count": 12,
   "id": "788b637a-c7b1-4c48-8138-31bb711190ef",
   "metadata": {},
   "outputs": [],
   "source": [
    "def extractTextFromPdf(locationTuple):\n",
    "    \"\"\" Read in the pdf, write file with the text\n",
    "        Returns location of the file\n",
    "    \"\"\"\n",
    "    pdfFile = locationTuple[0]\n",
    "    txtFile = locationTuple[1]\n",
    "\n",
    "    #In this project, we don't care about pages; we just want the full text as one long file\n",
    "    allText = ''\n",
    "    try:\n",
    "        with pdfplumber.open(pdfFile) as pdf:\n",
    "            for i, page in enumerate(pdf.pages):\n",
    "                text = page.extract_text()\n",
    "                if text != '':\n",
    "                    allText = allText + ' ' + text\n",
    "            \n",
    "        with open(txtFile, 'w', encoding='utf-8') as f:\n",
    "            f.write(allText)\n",
    "            \n",
    "        return(txtFile)\n",
    "                \n",
    "    except Exception as e:\n",
    "        print(f\"Conversion failed for: {pdfFile} - Error: {e}\", flush=True)\n",
    "    \n",
    "    "
   ]
  },
  {
   "cell_type": "code",
   "execution_count": 13,
   "id": "df59c416-3b6c-43ec-a075-ab5a1e20c0c0",
   "metadata": {},
   "outputs": [],
   "source": [
    "def createPdfList(dirs, textDir):\n",
    "    \"\"\" To make paralel processing easier, we create a list of the location of all pdf files\n",
    "        Input a list of folders, outputs a list of tuples: (pdf location, intended txt location)\n",
    "    \"\"\"\n",
    "    listOfDirs = []\n",
    "    for pdfDir in dirs:\n",
    "        for file in os.listdir(pdfDir):\n",
    "            if file.endswith('.pdf'):\n",
    "                #The matching txt would be:\n",
    "                outFile = os.path.join(textDir, f\"{file.rsplit('.', 1)[0]}.txt\")\n",
    "                #As we are combining different dirs, file names may overlap\n",
    "                if os.path.isfile(outFile):\n",
    "                    print(f\"Text for {file} already exists - creating duplicate\")\n",
    "                    \n",
    "                listOfDirs.append(\n",
    "                    (os.path.join(pdfDir, file), outFile)\n",
    "                    )\n",
    "    return(listOfDirs)\n",
    "    "
   ]
  },
  {
   "cell_type": "code",
   "execution_count": 16,
   "id": "776c0168-1801-4298-97ae-4029269e4dcf",
   "metadata": {},
   "outputs": [
    {
     "name": "stdout",
     "output_type": "stream",
     "text": [
      "Conversion failed for: D:\\OneDrive - Wageningen University & Research\\Policy scraper UK NL\\Data\\Test\\1-Salary-Survey_2015.pdf - Error: No /Root object! - Is this really a PDF?\n",
      "Conversion failed for: D:\\OneDrive - Wageningen University & Research\\Policy scraper UK NL\\Data\\Test\\7054-uk-colombia-statement-deforestation.pdf - Error: No /Root object! - Is this really a PDF?\n",
      "Conversion failed for: D:\\OneDrive - Wageningen University & Research\\Policy scraper UK NL\\Data\\Test\\7126-joint-statement-tackling-deforestation.pdf - Error: No /Root object! - Is this really a PDF?\n",
      "Done in 221.42761254310608\n"
     ]
    }
   ],
   "source": [
    "#Test\n",
    "t0 = time.time()\n",
    "\n",
    "dirs = [\n",
    "    #r'C:\\Users\\siets009\\OneDrive - Wageningen University & Research\\Policy scraper UK NL\\Data\\Test',\n",
    "    #r'C:\\Users\\ajsie\\OneDrive - Wageningen University & Research\\Policy scraper UK NL\\Data\\Test',\n",
    "    r'D:\\OneDrive - Wageningen University & Research\\Policy scraper UK NL\\Data\\Test'\n",
    "       ]\n",
    "#outputDir = r'C:\\Users\\ajsie\\OneDrive - Wageningen University & Research\\Policy scraper UK NL\\Data\\2320524_ConvertedPDFs'\n",
    "#outputDir = r'C:\\Users\\siets009\\OneDrive - Wageningen University & Research\\Policy scraper UK NL\\Data\\2320524_ConvertedPDFs'\n",
    "outputDir = r'D:\\OneDrive - Wageningen University & Research\\Policy scraper UK NL\\Data\\TestOut'\n",
    "\n",
    "listOfDirs = createPdfList(dirs, outputDir)\n",
    "txts = []\n",
    "for dirTuple in listOfDirs:\n",
    "    txts.append(extractTextFromPdf(dirTuple))\n",
    "    \n",
    "print(f\"Done in {time.time() - t0}\")"
   ]
  },
  {
   "cell_type": "code",
   "execution_count": 10,
   "id": "91971c6c-3fae-4bb7-ba55-c2d784b09879",
   "metadata": {},
   "outputs": [
    {
     "ename": "UnicodeEncodeError",
     "evalue": "'charmap' codec can't encode character '\\uf0b7' in position 21479: character maps to <undefined>",
     "output_type": "error",
     "traceback": [
      "\u001b[1;31m---------------------------------------------------------------------------\u001b[0m",
      "\u001b[1;31mUnicodeEncodeError\u001b[0m                        Traceback (most recent call last)",
      "\u001b[1;32m~\\AppData\\Local\\Temp\\ipykernel_24304\\3343172500.py\u001b[0m in \u001b[0;36m<module>\u001b[1;34m\u001b[0m\n\u001b[0;32m     10\u001b[0m \u001b[1;33m\u001b[0m\u001b[0m\n\u001b[0;32m     11\u001b[0m \u001b[1;32mwith\u001b[0m \u001b[0mopen\u001b[0m\u001b[1;33m(\u001b[0m\u001b[0mtxtFile\u001b[0m\u001b[1;33m,\u001b[0m \u001b[1;34m'w'\u001b[0m\u001b[1;33m)\u001b[0m \u001b[1;32mas\u001b[0m \u001b[0mf\u001b[0m\u001b[1;33m:\u001b[0m\u001b[1;33m\u001b[0m\u001b[1;33m\u001b[0m\u001b[0m\n\u001b[1;32m---> 12\u001b[1;33m     \u001b[0mf\u001b[0m\u001b[1;33m.\u001b[0m\u001b[0mwrite\u001b[0m\u001b[1;33m(\u001b[0m\u001b[0mallText\u001b[0m\u001b[1;33m)\u001b[0m\u001b[1;33m\u001b[0m\u001b[1;33m\u001b[0m\u001b[0m\n\u001b[0m\u001b[0;32m     13\u001b[0m \u001b[1;33m\u001b[0m\u001b[0m\n\u001b[0;32m     14\u001b[0m \u001b[0mallText\u001b[0m\u001b[1;33m\u001b[0m\u001b[1;33m\u001b[0m\u001b[0m\n",
      "\u001b[1;32m~\\Anaconda3\\lib\\encodings\\cp1252.py\u001b[0m in \u001b[0;36mencode\u001b[1;34m(self, input, final)\u001b[0m\n\u001b[0;32m     17\u001b[0m \u001b[1;32mclass\u001b[0m \u001b[0mIncrementalEncoder\u001b[0m\u001b[1;33m(\u001b[0m\u001b[0mcodecs\u001b[0m\u001b[1;33m.\u001b[0m\u001b[0mIncrementalEncoder\u001b[0m\u001b[1;33m)\u001b[0m\u001b[1;33m:\u001b[0m\u001b[1;33m\u001b[0m\u001b[1;33m\u001b[0m\u001b[0m\n\u001b[0;32m     18\u001b[0m     \u001b[1;32mdef\u001b[0m \u001b[0mencode\u001b[0m\u001b[1;33m(\u001b[0m\u001b[0mself\u001b[0m\u001b[1;33m,\u001b[0m \u001b[0minput\u001b[0m\u001b[1;33m,\u001b[0m \u001b[0mfinal\u001b[0m\u001b[1;33m=\u001b[0m\u001b[1;32mFalse\u001b[0m\u001b[1;33m)\u001b[0m\u001b[1;33m:\u001b[0m\u001b[1;33m\u001b[0m\u001b[1;33m\u001b[0m\u001b[0m\n\u001b[1;32m---> 19\u001b[1;33m         \u001b[1;32mreturn\u001b[0m \u001b[0mcodecs\u001b[0m\u001b[1;33m.\u001b[0m\u001b[0mcharmap_encode\u001b[0m\u001b[1;33m(\u001b[0m\u001b[0minput\u001b[0m\u001b[1;33m,\u001b[0m\u001b[0mself\u001b[0m\u001b[1;33m.\u001b[0m\u001b[0merrors\u001b[0m\u001b[1;33m,\u001b[0m\u001b[0mencoding_table\u001b[0m\u001b[1;33m)\u001b[0m\u001b[1;33m[\u001b[0m\u001b[1;36m0\u001b[0m\u001b[1;33m]\u001b[0m\u001b[1;33m\u001b[0m\u001b[1;33m\u001b[0m\u001b[0m\n\u001b[0m\u001b[0;32m     20\u001b[0m \u001b[1;33m\u001b[0m\u001b[0m\n\u001b[0;32m     21\u001b[0m \u001b[1;32mclass\u001b[0m \u001b[0mIncrementalDecoder\u001b[0m\u001b[1;33m(\u001b[0m\u001b[0mcodecs\u001b[0m\u001b[1;33m.\u001b[0m\u001b[0mIncrementalDecoder\u001b[0m\u001b[1;33m)\u001b[0m\u001b[1;33m:\u001b[0m\u001b[1;33m\u001b[0m\u001b[1;33m\u001b[0m\u001b[0m\n",
      "\u001b[1;31mUnicodeEncodeError\u001b[0m: 'charmap' codec can't encode character '\\uf0b7' in position 21479: character maps to <undefined>"
     ]
    }
   ],
   "source": [
    "#Test on single\n",
    "pdfFile = r'D:\\OneDrive - Wageningen University & Research\\Policy documents UK NL\\Data\\230524_ClimateChange\\Summary_of_key_findings_BEIS_Public_Attitudes_Tracker_-_wave_21.pdf'\n",
    "txtFile = r'D:\\OneDrive - Wageningen University & Research\\Policy scraper UK NL\\Data\\Test\\test.txt'\n",
    "allText = ''\n",
    "with pdfplumber.open(pdfFile) as pdf:\n",
    "    for i, page in enumerate(pdf.pages):\n",
    "        text = page.extract_text()\n",
    "        if text != '':\n",
    "            allText = allText + ' ' + text\n",
    "                    \n",
    "with open(txtFile, 'w') as f:\n",
    "    f.write(allText)\n",
    "                    \n",
    "allText"
   ]
  },
  {
   "cell_type": "code",
   "execution_count": null,
   "id": "5c7b8e87-1ff4-45b5-b6fb-c31371f9b4ea",
   "metadata": {},
   "outputs": [],
   "source": [
    "results"
   ]
  }
 ],
 "metadata": {
  "kernelspec": {
   "display_name": "Python 3 (ipykernel)",
   "language": "python",
   "name": "python3"
  },
  "language_info": {
   "codemirror_mode": {
    "name": "ipython",
    "version": 3
   },
   "file_extension": ".py",
   "mimetype": "text/x-python",
   "name": "python",
   "nbconvert_exporter": "python",
   "pygments_lexer": "ipython3",
   "version": "3.11.3"
  }
 },
 "nbformat": 4,
 "nbformat_minor": 5
}
